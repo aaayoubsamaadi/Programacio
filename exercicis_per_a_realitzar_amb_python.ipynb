{
  "nbformat": 4,
  "nbformat_minor": 0,
  "metadata": {
    "colab": {
      "provenance": [],
      "toc_visible": true,
      "authorship_tag": "ABX9TyP7iNTkUbXaFu/fQLXIaVDS",
      "include_colab_link": true
    },
    "kernelspec": {
      "name": "python3",
      "display_name": "Python 3"
    },
    "language_info": {
      "name": "python"
    }
  },
  "cells": [
    {
      "cell_type": "markdown",
      "metadata": {
        "id": "view-in-github",
        "colab_type": "text"
      },
      "source": [
        "<a href=\"https://colab.research.google.com/github/aaayoubsamaadi/Programacio/blob/main/exercicis_per_a_realitzar_amb_python.ipynb\" target=\"_parent\"><img src=\"https://colab.research.google.com/assets/colab-badge.svg\" alt=\"Open In Colab\"/></a>"
      ]
    },
    {
      "cell_type": "markdown",
      "source": [
        "######**1. Un fabricant ven 48 cuines a 93 € una. Cobra 37 euros pel transport. Quant haurà cobrat en total?**"
      ],
      "metadata": {
        "id": "jlSB1xDOIPk6"
      }
    },
    {
      "cell_type": "code",
      "execution_count": null,
      "metadata": {
        "colab": {
          "base_uri": "https://localhost:8080/"
        },
        "id": "FrEq6JfRjywM",
        "outputId": "355d9b6d-b84e-40cc-b357-5929d3c665c0"
      },
      "outputs": [
        {
          "output_type": "stream",
          "name": "stdout",
          "text": [
            "4501\n"
          ]
        }
      ],
      "source": [
        "def calculs():\n",
        "  nombre_cuines = 48\n",
        "  preu_per_cuina = 93\n",
        "  cost_transport = 37\n",
        "\n",
        "\n",
        "  cost_cuines = nombre_cuines * preu_per_cuina\n",
        "  total = cost_cuines + cost_transport\n",
        "  print(total)\n",
        "\n",
        "calculs ()"
      ]
    },
    {
      "cell_type": "markdown",
      "source": [
        "**2. En una guardiola hi ha 120 euros; en una altra hi ha 215 i en una tercera 163. Si repartim els\n",
        "euros entre 6 persones, quants en toquen a cada una?**"
      ],
      "metadata": {
        "id": "CdZw-7G1Maer"
      }
    },
    {
      "cell_type": "code",
      "source": [
        "guardiola_1=120\n",
        "guardiola_2=215\n",
        "guardiola_3=163\n",
        "total_a_repartir=(guardiola_1 +guardiola_2 +guardiola_3)/6\n",
        "print(total_a_repartir)\n",
        "print('El preu total a repartir és de', total_a_repartir, \"euros\")"
      ],
      "metadata": {
        "id": "2WZAWF7oMd4x"
      },
      "execution_count": null,
      "outputs": []
    },
    {
      "cell_type": "markdown",
      "source": [
        "**3. Una castanyera tenia 250 castanyes torrades. Si en ven 17 dotzenes i a més treu 9 castanyes\n",
        "cremades, quantes li'n queden per vendre?**"
      ],
      "metadata": {
        "id": "lE09zxMDMRei"
      }
    },
    {
      "cell_type": "code",
      "source": [
        "total_castanyes_torrades=250\n",
        "ven=(17 * 12) + 9\n",
        "print (ven)\n",
        "total=total_castanyes_torrades-ven\n",
        "print(total)\n",
        "print(\"Li queden per vendre\", total, \"castanyes\")"
      ],
      "metadata": {
        "colab": {
          "base_uri": "https://localhost:8080/"
        },
        "id": "zrL6w-0QpUgh",
        "outputId": "2bbc809b-a70c-4b92-f807-dee7d6806a5a"
      },
      "execution_count": null,
      "outputs": [
        {
          "output_type": "stream",
          "name": "stdout",
          "text": [
            "213\n",
            "37\n",
            "Li queden per vendre 37 castanyes\n"
          ]
        }
      ]
    },
    {
      "cell_type": "markdown",
      "source": [
        "**4. Un ramader va guanyar en un any 2.850 euros ; va guardar-se'n 700, i amb la resta va comprar 5 vaques. Quants euros val cada vaca?**"
      ],
      "metadata": {
        "id": "Xa56VguNpYTK"
      }
    },
    {
      "cell_type": "code",
      "source": [
        "ramader_guany=2850\n",
        "ramader_guarda=700\n",
        "ramader_compra_5_vaques=(ramader_guany - ramader_guarda)/5\n",
        "print(ramader_compra_5_vaques)\n",
        "print(\"Cada vaca li ha costat\", ramader_compra_5_vaques, \"euros\")"
      ],
      "metadata": {
        "colab": {
          "base_uri": "https://localhost:8080/"
        },
        "id": "KxAXNrMepeWc",
        "outputId": "3111df08-b15d-4fca-b550-163831a0695c"
      },
      "execution_count": null,
      "outputs": [
        {
          "output_type": "stream",
          "name": "stdout",
          "text": [
            "430.0\n",
            "Cada vaca li ha costat 430.0 euros\n"
          ]
        }
      ]
    },
    {
      "cell_type": "markdown",
      "source": [
        "**5. A la llibreta d'estalvis tinc 275 euros. Hi poso dos bitllets de 10 euros i tres monedes de 2 euros. Quants euros hi tinc ara?**\n"
      ],
      "metadata": {
        "id": "Z8MmGiXlpnTt"
      }
    },
    {
      "cell_type": "code",
      "source": [
        "estalvis=275\n",
        "bitllets= 10 * 2\n",
        "monedes= 2 * 3\n",
        "print(estalvis)\n",
        "print(bitllets)\n",
        "print(monedes)\n",
        "total_1=estalvis+bitllets+monedes\n",
        "print(\"Tinc\",total_1, \"euros a la llibreta d'estalvis\")"
      ],
      "metadata": {
        "colab": {
          "base_uri": "https://localhost:8080/"
        },
        "id": "L-76HyxwpvNx",
        "outputId": "15ac13ce-dff5-49a1-fc70-e1a193a8d257"
      },
      "execution_count": null,
      "outputs": [
        {
          "output_type": "stream",
          "name": "stdout",
          "text": [
            "275\n",
            "20\n",
            "6\n",
            "Tinc 301 euros a la llibreta d'estalvis\n"
          ]
        }
      ]
    },
    {
      "cell_type": "markdown",
      "source": [
        "**6. A una família li falten 26.625 euros per poder comprar una casa que val 98.370 euros. Quants euros té?**"
      ],
      "metadata": {
        "id": "tdo1FNtAp3IV"
      }
    },
    {
      "cell_type": "code",
      "source": [
        "falten=26625\n",
        "casa=98370\n",
        "tenen=casa - falten\n",
        "print(\"Una família tenen\", tenen, \"euros per comprar una casa. Per tant els falten\", falten,\"per comprar la casa de 98370 euros.\")"
      ],
      "metadata": {
        "colab": {
          "base_uri": "https://localhost:8080/"
        },
        "id": "-0mr5cyYp9jl",
        "outputId": "6114c745-977f-4527-ab2f-9523d72700ba"
      },
      "execution_count": null,
      "outputs": [
        {
          "output_type": "stream",
          "name": "stdout",
          "text": [
            "Una família tenen 71745 euros per comprar una casa. Per tant els falten 26625 per comprar la casa de 98370 euros.\n"
          ]
        }
      ]
    },
    {
      "cell_type": "markdown",
      "source": [
        "**7. Si dues revistes pesen 432 grams i el pes d'aquestes dues revistes és el mateix que cinc rotuladors. Quant pesa un rotulador?**\n"
      ],
      "metadata": {
        "id": "I_pXl7BgqCyJ"
      }
    },
    {
      "cell_type": "code",
      "source": [
        "revistas_2=432\n",
        "rotulador=(revistas_2/2)/5\n",
        "print(rotulador)\n",
        "print(\"Un retolador pesa\", rotulador, \"grams\")"
      ],
      "metadata": {
        "id": "lJH84CtBqICm"
      },
      "execution_count": null,
      "outputs": []
    },
    {
      "cell_type": "markdown",
      "source": [
        "**8. Una font raja 86 litres d'aigua per minut, d'una altra 74 litres i d'una tercera 132 litres. Quants litres ragen les tres fonts juntes en una hora?**"
      ],
      "metadata": {
        "id": "4dYzsUSzqK7R"
      }
    },
    {
      "cell_type": "code",
      "source": [
        "font_1=86*60\n",
        "font_2=74*60\n",
        "font_3=132*60\n",
        "fonts=font_1+font_2+font_3\n",
        "print(fonts)\n",
        "print(\"Les tres fons juntes rajen\", fonts, \"L/h\")"
      ],
      "metadata": {
        "id": "splWo7tEqOuY"
      },
      "execution_count": null,
      "outputs": []
    },
    {
      "cell_type": "markdown",
      "source": [
        "**9. Un terrissaire fa 301 gerres cada setmana. Si les posa en caixes de 7 gerres, quantes caixes n'omple**"
      ],
      "metadata": {
        "id": "Hnfd5qtNqRhl"
      }
    },
    {
      "cell_type": "code",
      "source": [
        "gerres=301\n",
        "quantitat_caixa=7\n",
        "caixes=gerres/quantitat_caixa\n",
        "print(caixes)\n",
        "print(\"N'haurà fet exactament\", caixes, \"caixes\")"
      ],
      "metadata": {
        "id": "gySTU0_eqX3S"
      },
      "execution_count": null,
      "outputs": []
    },
    {
      "cell_type": "markdown",
      "source": [
        "**10. En un vaixell hi van 175 mariners i en un submarí 56. quants mariners hi haurà en 14 vaixells i 6 submarins iguals als esmentats?**\n"
      ],
      "metadata": {
        "id": "jMzwK4ZqqbMf"
      }
    },
    {
      "cell_type": "code",
      "source": [
        "vaixell=175*14\n",
        "submari=56*6\n",
        "mariners=vaixell+submari\n",
        "print(mariners)\n",
        "print(\"Hi haurà\", mariners, \"mariners\")"
      ],
      "metadata": {
        "id": "SHG2bCUzqfLP"
      },
      "execution_count": null,
      "outputs": []
    },
    {
      "cell_type": "markdown",
      "source": [
        "### **ACTIVITAT 1**\n",
        "\n",
        "Una botiga de joguines té molt èxit en dos dels seus productes: nines i pallassos.\n",
        "Acostuma a fer vendes per correu i l'empresa de logística els cobra pel pes de cada joguina.\n",
        "Així doncs, han de calcular el pes dels pallassos i nines que sortiran a cada paquet a demanda.\n",
        "Cada pallasso pesa 112 g i cada nina pesa 75 g. Es necessita un programa que llegeixi el nombre de pallassos\n",
        "i nines de cada comanda i que calculi el pes del paquet.\n",
        "El número serà sencer o no? Float?"
      ],
      "metadata": {
        "id": "cQ7_ywH0s12W"
      }
    },
    {
      "cell_type": "code",
      "source": [
        "def comanda():\n",
        "    pes_pallasso = 112\n",
        "    pes_nina = 75\n",
        "\n",
        "\n",
        "    numero_de_pallasos = int(input(\"Numero de pallasos venuts: \"))\n",
        "    numero_de_nines = int(input(\"Numero de nines venudes: \"))\n",
        "\n",
        "\n",
        "    pes_total_comanda = (pes_pallasso * numero_de_pallasos) + (pes_nina * numero_de_nines)\n",
        "\n",
        "\n",
        "    print(\"Pes total de la comanda:\", pes_total_comanda, \"g\")\n",
        "\n",
        "\n",
        "comanda()\n",
        "\n",
        "\n"
      ],
      "metadata": {
        "id": "H2e3nVKBtLbO",
        "colab": {
          "base_uri": "https://localhost:8080/",
          "height": 356
        },
        "outputId": "d74a2704-6ce9-4050-fb92-21a7186b596f"
      },
      "execution_count": null,
      "outputs": [
        {
          "output_type": "error",
          "ename": "KeyboardInterrupt",
          "evalue": "Interrupted by user",
          "traceback": [
            "\u001b[0;31m---------------------------------------------------------------------------\u001b[0m",
            "\u001b[0;31mKeyboardInterrupt\u001b[0m                         Traceback (most recent call last)",
            "\u001b[0;32m<ipython-input-20-f70fc39b1b6b>\u001b[0m in \u001b[0;36m<cell line: 16>\u001b[0;34m()\u001b[0m\n\u001b[1;32m     14\u001b[0m \u001b[0;34m\u001b[0m\u001b[0m\n\u001b[1;32m     15\u001b[0m \u001b[0;34m\u001b[0m\u001b[0m\n\u001b[0;32m---> 16\u001b[0;31m \u001b[0mcomanda\u001b[0m\u001b[0;34m(\u001b[0m\u001b[0;34m)\u001b[0m\u001b[0;34m\u001b[0m\u001b[0;34m\u001b[0m\u001b[0m\n\u001b[0m\u001b[1;32m     17\u001b[0m \u001b[0;34m\u001b[0m\u001b[0m\n\u001b[1;32m     18\u001b[0m \u001b[0;34m\u001b[0m\u001b[0m\n",
            "\u001b[0;32m<ipython-input-20-f70fc39b1b6b>\u001b[0m in \u001b[0;36mcomanda\u001b[0;34m()\u001b[0m\n\u001b[1;32m      4\u001b[0m \u001b[0;34m\u001b[0m\u001b[0m\n\u001b[1;32m      5\u001b[0m \u001b[0;34m\u001b[0m\u001b[0m\n\u001b[0;32m----> 6\u001b[0;31m     \u001b[0mnumero_de_pallasos\u001b[0m \u001b[0;34m=\u001b[0m \u001b[0mint\u001b[0m\u001b[0;34m(\u001b[0m\u001b[0minput\u001b[0m\u001b[0;34m(\u001b[0m\u001b[0;34m\"Numero de pallasos venuts: \"\u001b[0m\u001b[0;34m)\u001b[0m\u001b[0;34m)\u001b[0m\u001b[0;34m\u001b[0m\u001b[0;34m\u001b[0m\u001b[0m\n\u001b[0m\u001b[1;32m      7\u001b[0m     \u001b[0mnumero_de_nines\u001b[0m \u001b[0;34m=\u001b[0m \u001b[0mint\u001b[0m\u001b[0;34m(\u001b[0m\u001b[0minput\u001b[0m\u001b[0;34m(\u001b[0m\u001b[0;34m\"Numero de nines venudes: \"\u001b[0m\u001b[0;34m)\u001b[0m\u001b[0;34m)\u001b[0m\u001b[0;34m\u001b[0m\u001b[0;34m\u001b[0m\u001b[0m\n\u001b[1;32m      8\u001b[0m \u001b[0;34m\u001b[0m\u001b[0m\n",
            "\u001b[0;32m/usr/local/lib/python3.10/dist-packages/ipykernel/kernelbase.py\u001b[0m in \u001b[0;36mraw_input\u001b[0;34m(self, prompt)\u001b[0m\n\u001b[1;32m    849\u001b[0m                 \u001b[0;34m\"raw_input was called, but this frontend does not support input requests.\"\u001b[0m\u001b[0;34m\u001b[0m\u001b[0;34m\u001b[0m\u001b[0m\n\u001b[1;32m    850\u001b[0m             )\n\u001b[0;32m--> 851\u001b[0;31m         return self._input_request(str(prompt),\n\u001b[0m\u001b[1;32m    852\u001b[0m             \u001b[0mself\u001b[0m\u001b[0;34m.\u001b[0m\u001b[0m_parent_ident\u001b[0m\u001b[0;34m,\u001b[0m\u001b[0;34m\u001b[0m\u001b[0;34m\u001b[0m\u001b[0m\n\u001b[1;32m    853\u001b[0m             \u001b[0mself\u001b[0m\u001b[0;34m.\u001b[0m\u001b[0m_parent_header\u001b[0m\u001b[0;34m,\u001b[0m\u001b[0;34m\u001b[0m\u001b[0;34m\u001b[0m\u001b[0m\n",
            "\u001b[0;32m/usr/local/lib/python3.10/dist-packages/ipykernel/kernelbase.py\u001b[0m in \u001b[0;36m_input_request\u001b[0;34m(self, prompt, ident, parent, password)\u001b[0m\n\u001b[1;32m    893\u001b[0m             \u001b[0;32mexcept\u001b[0m \u001b[0mKeyboardInterrupt\u001b[0m\u001b[0;34m:\u001b[0m\u001b[0;34m\u001b[0m\u001b[0;34m\u001b[0m\u001b[0m\n\u001b[1;32m    894\u001b[0m                 \u001b[0;31m# re-raise KeyboardInterrupt, to truncate traceback\u001b[0m\u001b[0;34m\u001b[0m\u001b[0;34m\u001b[0m\u001b[0m\n\u001b[0;32m--> 895\u001b[0;31m                 \u001b[0;32mraise\u001b[0m \u001b[0mKeyboardInterrupt\u001b[0m\u001b[0;34m(\u001b[0m\u001b[0;34m\"Interrupted by user\"\u001b[0m\u001b[0;34m)\u001b[0m \u001b[0;32mfrom\u001b[0m \u001b[0;32mNone\u001b[0m\u001b[0;34m\u001b[0m\u001b[0;34m\u001b[0m\u001b[0m\n\u001b[0m\u001b[1;32m    896\u001b[0m             \u001b[0;32mexcept\u001b[0m \u001b[0mException\u001b[0m \u001b[0;32mas\u001b[0m \u001b[0me\u001b[0m\u001b[0;34m:\u001b[0m\u001b[0;34m\u001b[0m\u001b[0;34m\u001b[0m\u001b[0m\n\u001b[1;32m    897\u001b[0m                 \u001b[0mself\u001b[0m\u001b[0;34m.\u001b[0m\u001b[0mlog\u001b[0m\u001b[0;34m.\u001b[0m\u001b[0mwarning\u001b[0m\u001b[0;34m(\u001b[0m\u001b[0;34m\"Invalid Message:\"\u001b[0m\u001b[0;34m,\u001b[0m \u001b[0mexc_info\u001b[0m\u001b[0;34m=\u001b[0m\u001b[0;32mTrue\u001b[0m\u001b[0;34m)\u001b[0m\u001b[0;34m\u001b[0m\u001b[0;34m\u001b[0m\u001b[0m\n",
            "\u001b[0;31mKeyboardInterrupt\u001b[0m: Interrupted by user"
          ]
        }
      ]
    },
    {
      "cell_type": "markdown",
      "source": [
        "### **ACTIVITAT 2.**\n",
        "Escriu un programa que pregunti el nom de l'usuari, es a dir un programa que et pregni com etius i despres cual elusiar introdueixi a resposta s'ens ha de imprimir una esposta amb el nom + un hola"
      ],
      "metadata": {
        "id": "AfE0XN_tQ89U"
      }
    },
    {
      "cell_type": "code",
      "source": [
        "\n",
        "nom = input(\"Com et dius? \")\n",
        "\n",
        "print (\"hola\",nom)\n"
      ],
      "metadata": {
        "id": "4NhK6zm1QmXR"
      },
      "execution_count": null,
      "outputs": []
    },
    {
      "cell_type": "markdown",
      "source": [
        "**Impressió + missatge**"
      ],
      "metadata": {
        "id": "oTHs-NJtRReT"
      }
    },
    {
      "cell_type": "code",
      "source": [
        "print (\"hola món\")"
      ],
      "metadata": {
        "id": "3gzgbpzzRT3B"
      },
      "execution_count": null,
      "outputs": []
    },
    {
      "cell_type": "markdown",
      "source": [
        "**Variable + impressió**"
      ],
      "metadata": {
        "id": "Nq0z_EE_RfOb"
      }
    },
    {
      "cell_type": "code",
      "source": [
        "x= \"hola món\"\n",
        "print (x)"
      ],
      "metadata": {
        "colab": {
          "base_uri": "https://localhost:8080/"
        },
        "id": "Jjfg-wzTRhHZ",
        "outputId": "09f6fbad-71ff-4875-d498-dea168f33308"
      },
      "execution_count": null,
      "outputs": [
        {
          "output_type": "stream",
          "name": "stdout",
          "text": [
            "hola món\n"
          ]
        }
      ]
    },
    {
      "cell_type": "code",
      "source": [
        "x=10\n",
        "print (type(x))"
      ],
      "metadata": {
        "colab": {
          "base_uri": "https://localhost:8080/"
        },
        "id": "QON9AZUYnu0_",
        "outputId": "abf90cce-055a-4789-add7-d220be4e335c"
      },
      "execution_count": null,
      "outputs": [
        {
          "output_type": "stream",
          "name": "stdout",
          "text": [
            "<class 'int'>\n"
          ]
        }
      ]
    },
    {
      "cell_type": "code",
      "source": [
        "x= 1,5\n",
        "print (type(x))"
      ],
      "metadata": {
        "colab": {
          "base_uri": "https://localhost:8080/"
        },
        "id": "ma8-LlGrn5Xt",
        "outputId": "03c08513-c3b0-4a92-f27b-2f71c37dbdc6"
      },
      "execution_count": null,
      "outputs": [
        {
          "output_type": "stream",
          "name": "stdout",
          "text": [
            "<class 'tuple'>\n"
          ]
        }
      ]
    },
    {
      "cell_type": "markdown",
      "source": [
        "1.PREGUNTA A LA VARIABLE MITJANSANT EL TYPE QUIN TIPUS DE FUNCIÓ ES\n",
        "2. SI LA RESPOSTA ES UN NUMERO SENCER CAL QUE EL PROGRAMA DIGUI \"ESCRIU EL NOMBRE NO SENCER O DECIMAL, SI NO CALDRA QUE IMPRIMEIXI EL VALOR DE NINES\n",
        "\n",
        "PRINT-> SÍ\n",
        "      -> SINO\n",
        "\n",
        "**DIAGRAMA DE FLUX AMB TRES VARIABLES**\n",
        "* LLIBRES -> 5 €\n",
        "* PUNT DE LLIBRES -> 1,5 €\n",
        "* PORTALLIBRES -> 10 €\n",
        "\n"
      ],
      "metadata": {
        "id": "oolYYfMCrp_L"
      }
    },
    {
      "cell_type": "code",
      "source": [
        "def comanda():\n",
        "    pes_pallasso = 112\n",
        "    pes_nina = 75\n",
        "\n",
        "\n",
        "    numero_de_pallasos = int(input(\"Numero de pallasos venuts: \"))\n",
        "    numero_de_nines = int(input(\"Numero de nines venudes: \"))\n",
        "\n",
        "\n",
        "    pes_total_comanda = (pes_pallasso * numero_de_pallasos) + (pes_nina * numero_de_nines)\n",
        "\n",
        "\n",
        "    print(\"Pes total de la comanda:\", pes_total_comanda, \"g\")\n",
        "\n",
        "    x=(pes_total_comanda)\n",
        "    print(type(x))\n",
        "\n",
        "\n",
        "\n",
        "\n",
        "comanda()\n",
        "\n"
      ],
      "metadata": {
        "id": "rCtfXZd5tKBN",
        "colab": {
          "base_uri": "https://localhost:8080/"
        },
        "outputId": "8aac6850-3ade-41a7-8022-4631be7a35f9"
      },
      "execution_count": null,
      "outputs": [
        {
          "output_type": "stream",
          "name": "stdout",
          "text": [
            "Numero de pallasos venuts: 87\n",
            "Numero de nines venudes: 89\n",
            "Pes total de la comanda: 16419 g\n",
            "<class 'int'>\n"
          ]
        }
      ]
    }
  ]
}