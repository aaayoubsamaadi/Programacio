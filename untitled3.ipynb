{
  "nbformat": 4,
  "nbformat_minor": 0,
  "metadata": {
    "colab": {
      "provenance": [],
      "authorship_tag": "ABX9TyOcCtNOzExylfJwb6qgBDTc",
      "include_colab_link": true
    },
    "kernelspec": {
      "name": "python3",
      "display_name": "Python 3"
    },
    "language_info": {
      "name": "python"
    }
  },
  "cells": [
    {
      "cell_type": "markdown",
      "metadata": {
        "id": "view-in-github",
        "colab_type": "text"
      },
      "source": [
        "<a href=\"https://colab.research.google.com/github/aaayoubsamaadi/Programacio/blob/main/untitled3.ipynb\" target=\"_parent\"><img src=\"https://colab.research.google.com/assets/colab-badge.svg\" alt=\"Open In Colab\"/></a>"
      ]
    },
    {
      "cell_type": "code",
      "execution_count": null,
      "metadata": {
        "id": "rWMIbcAJiyCE"
      },
      "outputs": [],
      "source": [
        "import pandas as pd\n",
        "import matplotlib.pyplot as plt\n",
        "from google.colab import files\n",
        "\n",
        "\n",
        "uploaded = files.upload()\n",
        "nombre_archivo = list(uploaded.keys())[0]\n",
        "df = pd.read_csv(nombre_archivo)\n",
        "\n",
        "\n",
        "print(\"REPRESENTACIÓ DE LA TAULA:\")\n",
        "display(df.head())\n",
        "\n",
        "\n",
        "plt.figure(figsize=(12, 6))\n",
        "\n",
        "\n",
        "for columna in df.columns[1:]:\n",
        "    plt.plot(df[df.columns[0]], df[columna], marker='o', linestyle='-', label=columna)\n",
        "\n",
        "\n",
        "plt.xlabel(\"TEMPS\")\n",
        "plt.ylabel(\"LLOCS\")\n",
        "plt.title(\"Gràfica de dades exportades de Micro:bit\")\n",
        "plt.legend()\n",
        "plt.grid()\n",
        "plt.show()\n",
        "\n",
        "\n",
        "print(\"Valors Màxim i Mínim de cada columna:\")\n",
        "for columna in df.columns[1:]:\n",
        "    maximo = df[columna].max()\n",
        "    minimo = df[columna].min()\n",
        "    print(f\"🔹 {columna}:  Màxim = {maximo} |  Mínim = {minimo}\")\n"
      ]
    }
  ]
}