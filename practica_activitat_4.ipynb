{
  "nbformat": 4,
  "nbformat_minor": 0,
  "metadata": {
    "colab": {
      "provenance": [],
      "authorship_tag": "ABX9TyOZPkF7+qSrfW1I6zfJit67",
      "include_colab_link": true
    },
    "kernelspec": {
      "name": "python3",
      "display_name": "Python 3"
    },
    "language_info": {
      "name": "python"
    }
  },
  "cells": [
    {
      "cell_type": "markdown",
      "metadata": {
        "id": "view-in-github",
        "colab_type": "text"
      },
      "source": [
        "<a href=\"https://colab.research.google.com/github/aaayoubsamaadi/Programacio/blob/main/practica_activitat_4.ipynb\" target=\"_parent\"><img src=\"https://colab.research.google.com/assets/colab-badge.svg\" alt=\"Open In Colab\"/></a>"
      ]
    },
    {
      "cell_type": "code",
      "execution_count": null,
      "metadata": {
        "id": "qtqmbiHbkYE1"
      },
      "outputs": [],
      "source": [
        "import pandas as pd\n",
        "import matplotlib.pyplot as plt\n",
        "from google.colab import files\n",
        "\n",
        "\n",
        "\n",
        "print(\"Pujar CSV :\")\n",
        "uploaded = files.upload()\n",
        "nombre_archivo = list(uploaded.keys())[0]\n",
        "df = pd.read_csv(nombre_archivo)\n",
        "\n",
        "\n",
        "\n",
        "print(\"\\nREPRESENTACIÓN DE LA TABLA:\")\n",
        "display(df.head())\n",
        "\n",
        "\n",
        "\n",
        "if 'TEMPERATURAºC' in df.columns and 'HUMITAT%' in df.columns:\n",
        "\n",
        "    plt.figure(figsize=(12, 6))\n",
        "    plt.plot(df[df.columns[0]], df['TEMPERATURAºC'], marker='o', linestyle='-', label='Temperatura (ºC)', color='red')\n",
        "    plt.plot(df[df.columns[0]], df['HUMITAT%'], marker='s', linestyle='--', label='Humitat (%)', color='blue')\n",
        "    plt.xlabel(\"TIEMPO\")\n",
        "    plt.ylabel(\"VALORES\")\n",
        "    plt.title(\"Gráfica de Temperatura y Humitat\")\n",
        "    plt.legend()\n",
        "    plt.grid()\n",
        "    plt.show()\n",
        "\n",
        "\n",
        "\n",
        "    max_temp = df['TEMPERATURAºC'].max()\n",
        "    min_temp = df['TEMPERATURAºC'].min()\n",
        "    max_hum = df['HUMITAT%'].max()\n",
        "    min_hum = df['HUMITAT%'].min()\n",
        "\n",
        "\n",
        "    print(\"\\nVALORES MÁXIMOS Y MÍNIMOS:\")\n",
        "    print(f\"🔹 TEMPERATURAºC: Máximo = {max_temp}°C | Mínimo = {min_temp}°C\")\n",
        "    print(f\"🔹 HUMITAT%: Máximo = {max_hum}% | Mínimo = {min_hum}%\")\n",
        "else:\n",
        "    print(\"Error: Las columnas 'TEMPERATURAºC' o 'HUMITAT%' no están presentes en el archivo CSV.\")\n"
      ]
    }
  ]
}