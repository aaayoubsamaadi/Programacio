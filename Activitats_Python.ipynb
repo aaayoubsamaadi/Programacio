{
  "nbformat": 4,
  "nbformat_minor": 0,
  "metadata": {
    "colab": {
      "provenance": [],
      "toc_visible": true,
      "authorship_tag": "ABX9TyPi3m1kTbhu4p9mLddPwS3m",
      "include_colab_link": true
    },
    "kernelspec": {
      "name": "python3",
      "display_name": "Python 3"
    },
    "language_info": {
      "name": "python"
    }
  },
  "cells": [
    {
      "cell_type": "markdown",
      "metadata": {
        "id": "view-in-github",
        "colab_type": "text"
      },
      "source": [
        "<a href=\"https://colab.research.google.com/github/aaayoubsamaadi/Programacio/blob/main/Activitats_Python.ipynb\" target=\"_parent\"><img src=\"https://colab.research.google.com/assets/colab-badge.svg\" alt=\"Open In Colab\"/></a>"
      ]
    },
    {
      "cell_type": "markdown",
      "source": [
        "## **EXERCICIS 1.**"
      ],
      "metadata": {
        "id": "PicM2-sbo6Nq"
      }
    },
    {
      "cell_type": "markdown",
      "source": [
        "**1. Un fabricant ven 48 cuines a 93 € una. Cobra 37 euros pel transport. Quant haurà cobrat en total?**\n"
      ],
      "metadata": {
        "id": "jlSB1xDOIPk6"
      }
    },
    {
      "cell_type": "code",
      "execution_count": null,
      "metadata": {
        "colab": {
          "base_uri": "https://localhost:8080/"
        },
        "id": "FrEq6JfRjywM",
        "outputId": "355d9b6d-b84e-40cc-b357-5929d3c665c0"
      },
      "outputs": [
        {
          "output_type": "stream",
          "name": "stdout",
          "text": [
            "4501\n"
          ]
        }
      ],
      "source": [
        "def calculs():\n",
        "  nombre_cuines = 48\n",
        "  preu_per_cuina = 93\n",
        "  cost_transport = 37\n",
        "\n",
        "\n",
        "  cost_cuines = nombre_cuines * preu_per_cuina\n",
        "  total = cost_cuines + cost_transport\n",
        "  print(total)\n",
        "\n",
        "calculs ()"
      ]
    },
    {
      "cell_type": "markdown",
      "source": [
        "**2. En una guardiola hi ha 120 euros; en una altra hi ha 215 i en una tercera 163. Si repartim els\n",
        "euros entre 6 persones, quants en toquen a cada una?**"
      ],
      "metadata": {
        "id": "CdZw-7G1Maer"
      }
    },
    {
      "cell_type": "code",
      "source": [
        "guardiola_1=120\n",
        "guardiola_2=215\n",
        "guardiola_3=163\n",
        "total_a_repartir=(guardiola_1 +guardiola_2 +guardiola_3)/6\n",
        "print(total_a_repartir)\n",
        "print('El preu total a repartir és de', total_a_repartir, \"euros\")"
      ],
      "metadata": {
        "id": "2WZAWF7oMd4x"
      },
      "execution_count": null,
      "outputs": []
    },
    {
      "cell_type": "markdown",
      "source": [
        "**3. Una castanyera tenia 250 castanyes torrades. Si en ven 17 dotzenes i a més treu 9 castanyes\n",
        "cremades, quantes li'n queden per vendre?**"
      ],
      "metadata": {
        "id": "lE09zxMDMRei"
      }
    },
    {
      "cell_type": "code",
      "source": [
        "total_castanyes_torrades=250\n",
        "ven=(17 * 12) + 9\n",
        "print (ven)\n",
        "total=total_castanyes_torrades-ven\n",
        "print(total)\n",
        "print(\"Li queden per vendre\", total, \"castanyes\")"
      ],
      "metadata": {
        "colab": {
          "base_uri": "https://localhost:8080/"
        },
        "id": "zrL6w-0QpUgh",
        "outputId": "2bbc809b-a70c-4b92-f807-dee7d6806a5a"
      },
      "execution_count": null,
      "outputs": [
        {
          "output_type": "stream",
          "name": "stdout",
          "text": [
            "213\n",
            "37\n",
            "Li queden per vendre 37 castanyes\n"
          ]
        }
      ]
    },
    {
      "cell_type": "markdown",
      "source": [
        "**4. Un ramader va guanyar en un any 2.850 euros ; va guardar-se'n 700, i amb la resta va comprar 5 vaques. Quants euros val cada vaca?**"
      ],
      "metadata": {
        "id": "Xa56VguNpYTK"
      }
    },
    {
      "cell_type": "code",
      "source": [
        "ramader_guany=2850\n",
        "ramader_guarda=700\n",
        "ramader_compra_5_vaques=(ramader_guany - ramader_guarda)/5\n",
        "print(ramader_compra_5_vaques)\n",
        "print(\"Cada vaca li ha costat\", ramader_compra_5_vaques, \"euros\")"
      ],
      "metadata": {
        "colab": {
          "base_uri": "https://localhost:8080/"
        },
        "id": "KxAXNrMepeWc",
        "outputId": "3111df08-b15d-4fca-b550-163831a0695c"
      },
      "execution_count": null,
      "outputs": [
        {
          "output_type": "stream",
          "name": "stdout",
          "text": [
            "430.0\n",
            "Cada vaca li ha costat 430.0 euros\n"
          ]
        }
      ]
    },
    {
      "cell_type": "markdown",
      "source": [
        "**5. A la llibreta d'estalvis tinc 275 euros. Hi poso dos bitllets de 10 euros i tres monedes de 2 euros. Quants euros hi tinc ara?**\n"
      ],
      "metadata": {
        "id": "Z8MmGiXlpnTt"
      }
    },
    {
      "cell_type": "code",
      "source": [
        "estalvis=275\n",
        "bitllets= 10 * 2\n",
        "monedes= 2 * 3\n",
        "print(estalvis)\n",
        "print(bitllets)\n",
        "print(monedes)\n",
        "total_1=estalvis+bitllets+monedes\n",
        "print(\"Tinc\",total_1, \"euros a la llibreta d'estalvis\")"
      ],
      "metadata": {
        "colab": {
          "base_uri": "https://localhost:8080/"
        },
        "id": "L-76HyxwpvNx",
        "outputId": "15ac13ce-dff5-49a1-fc70-e1a193a8d257"
      },
      "execution_count": null,
      "outputs": [
        {
          "output_type": "stream",
          "name": "stdout",
          "text": [
            "275\n",
            "20\n",
            "6\n",
            "Tinc 301 euros a la llibreta d'estalvis\n"
          ]
        }
      ]
    },
    {
      "cell_type": "markdown",
      "source": [
        "**6. A una família li falten 26.625 euros per poder comprar una casa que val 98.370 euros. Quants euros té?**"
      ],
      "metadata": {
        "id": "tdo1FNtAp3IV"
      }
    },
    {
      "cell_type": "code",
      "source": [
        "falten=26625\n",
        "casa=98370\n",
        "tenen=casa - falten\n",
        "print(\"Una família tenen\", tenen, \"euros per comprar una casa. Per tant els falten\", falten,\"per comprar la casa de 98370 euros.\")"
      ],
      "metadata": {
        "colab": {
          "base_uri": "https://localhost:8080/"
        },
        "id": "-0mr5cyYp9jl",
        "outputId": "6114c745-977f-4527-ab2f-9523d72700ba"
      },
      "execution_count": null,
      "outputs": [
        {
          "output_type": "stream",
          "name": "stdout",
          "text": [
            "Una família tenen 71745 euros per comprar una casa. Per tant els falten 26625 per comprar la casa de 98370 euros.\n"
          ]
        }
      ]
    },
    {
      "cell_type": "markdown",
      "source": [
        "**7. Si dues revistes pesen 432 grams i el pes d'aquestes dues revistes és el mateix que cinc rotuladors. Quant pesa un rotulador?**\n"
      ],
      "metadata": {
        "id": "I_pXl7BgqCyJ"
      }
    },
    {
      "cell_type": "code",
      "source": [
        "revistas_2=432\n",
        "rotulador=(revistas_2/2)/5\n",
        "print(rotulador)\n",
        "print(\"Un retolador pesa\", rotulador, \"grams\")"
      ],
      "metadata": {
        "id": "lJH84CtBqICm"
      },
      "execution_count": null,
      "outputs": []
    },
    {
      "cell_type": "markdown",
      "source": [
        "**8. Una font raja 86 litres d'aigua per minut, d'una altra 74 litres i d'una tercera 132 litres. Quants litres ragen les tres fonts juntes en una hora?**"
      ],
      "metadata": {
        "id": "4dYzsUSzqK7R"
      }
    },
    {
      "cell_type": "code",
      "source": [
        "font_1=86*60\n",
        "font_2=74*60\n",
        "font_3=132*60\n",
        "fonts=font_1+font_2+font_3\n",
        "print(fonts)\n",
        "print(\"Les tres fons juntes rajen\", fonts, \"L/h\")"
      ],
      "metadata": {
        "id": "splWo7tEqOuY"
      },
      "execution_count": null,
      "outputs": []
    },
    {
      "cell_type": "markdown",
      "source": [
        "**9. Un terrissaire fa 301 gerres cada setmana. Si les posa en caixes de 7 gerres, quantes caixes n'omple**"
      ],
      "metadata": {
        "id": "Hnfd5qtNqRhl"
      }
    },
    {
      "cell_type": "code",
      "source": [
        "gerres=301\n",
        "quantitat_caixa=7\n",
        "caixes=gerres/quantitat_caixa\n",
        "print(caixes)\n",
        "print(\"N'haurà fet exactament\", caixes, \"caixes\")"
      ],
      "metadata": {
        "id": "gySTU0_eqX3S"
      },
      "execution_count": null,
      "outputs": []
    },
    {
      "cell_type": "markdown",
      "source": [
        "**10. En un vaixell hi van 175 mariners i en un submarí 56. quants mariners hi haurà en 14 vaixells i 6 submarins iguals als esmentats?**\n"
      ],
      "metadata": {
        "id": "jMzwK4ZqqbMf"
      }
    },
    {
      "cell_type": "code",
      "source": [
        "vaixell=175*14\n",
        "submari=56*6\n",
        "mariners=vaixell+submari\n",
        "print(mariners)\n",
        "print(\"Hi haurà\", mariners, \"mariners\")"
      ],
      "metadata": {
        "id": "SHG2bCUzqfLP"
      },
      "execution_count": null,
      "outputs": []
    },
    {
      "cell_type": "markdown",
      "source": [
        "# **EXERCICIS 2.**"
      ],
      "metadata": {
        "id": "PLoEgxdipILi"
      }
    },
    {
      "cell_type": "markdown",
      "source": [
        "Una botiga de joguines té molt èxit en dos dels seus productes: nines i pallassos.\n",
        "Acostuma a fer vendes per correu i l'empresa de logística els cobra pel pes de cada joguina.\n",
        "Així doncs, han de calcular el pes dels pallassos i nines que sortiran a cada paquet a demanda.\n",
        "Cada pallasso pesa 112 g i cada nina pesa 75 g. Es necessita un programa que llegeixi el nombre de pallassos\n",
        "i nines de cada comanda i que calculi el pes del paquet.\n",
        "El número serà sencer o no? Float?"
      ],
      "metadata": {
        "id": "cQ7_ywH0s12W"
      }
    },
    {
      "cell_type": "code",
      "source": [
        "def comanda():\n",
        "    pes_pallasso = 112\n",
        "    pes_nina = 75\n",
        "\n",
        "\n",
        "    numero_de_pallasos = int(input(\"Numero de pallasos venuts: \"))\n",
        "    numero_de_nines = int(input(\"Numero de nines venudes: \"))\n",
        "\n",
        "\n",
        "    pes_total_comanda = (pes_pallasso * numero_de_pallasos) + (pes_nina * numero_de_nines)\n",
        "\n",
        "\n",
        "    print(\"Pes total de la comanda:\", pes_total_comanda, \"g\")\n",
        "\n",
        "\n",
        "comanda()\n",
        "\n",
        "\n"
      ],
      "metadata": {
        "id": "H2e3nVKBtLbO",
        "colab": {
          "base_uri": "https://localhost:8080/",
          "height": 356
        },
        "outputId": "d74a2704-6ce9-4050-fb92-21a7186b596f"
      },
      "execution_count": null,
      "outputs": [
        {
          "output_type": "error",
          "ename": "KeyboardInterrupt",
          "evalue": "Interrupted by user",
          "traceback": [
            "\u001b[0;31m---------------------------------------------------------------------------\u001b[0m",
            "\u001b[0;31mKeyboardInterrupt\u001b[0m                         Traceback (most recent call last)",
            "\u001b[0;32m<ipython-input-20-f70fc39b1b6b>\u001b[0m in \u001b[0;36m<cell line: 16>\u001b[0;34m()\u001b[0m\n\u001b[1;32m     14\u001b[0m \u001b[0;34m\u001b[0m\u001b[0m\n\u001b[1;32m     15\u001b[0m \u001b[0;34m\u001b[0m\u001b[0m\n\u001b[0;32m---> 16\u001b[0;31m \u001b[0mcomanda\u001b[0m\u001b[0;34m(\u001b[0m\u001b[0;34m)\u001b[0m\u001b[0;34m\u001b[0m\u001b[0;34m\u001b[0m\u001b[0m\n\u001b[0m\u001b[1;32m     17\u001b[0m \u001b[0;34m\u001b[0m\u001b[0m\n\u001b[1;32m     18\u001b[0m \u001b[0;34m\u001b[0m\u001b[0m\n",
            "\u001b[0;32m<ipython-input-20-f70fc39b1b6b>\u001b[0m in \u001b[0;36mcomanda\u001b[0;34m()\u001b[0m\n\u001b[1;32m      4\u001b[0m \u001b[0;34m\u001b[0m\u001b[0m\n\u001b[1;32m      5\u001b[0m \u001b[0;34m\u001b[0m\u001b[0m\n\u001b[0;32m----> 6\u001b[0;31m     \u001b[0mnumero_de_pallasos\u001b[0m \u001b[0;34m=\u001b[0m \u001b[0mint\u001b[0m\u001b[0;34m(\u001b[0m\u001b[0minput\u001b[0m\u001b[0;34m(\u001b[0m\u001b[0;34m\"Numero de pallasos venuts: \"\u001b[0m\u001b[0;34m)\u001b[0m\u001b[0;34m)\u001b[0m\u001b[0;34m\u001b[0m\u001b[0;34m\u001b[0m\u001b[0m\n\u001b[0m\u001b[1;32m      7\u001b[0m     \u001b[0mnumero_de_nines\u001b[0m \u001b[0;34m=\u001b[0m \u001b[0mint\u001b[0m\u001b[0;34m(\u001b[0m\u001b[0minput\u001b[0m\u001b[0;34m(\u001b[0m\u001b[0;34m\"Numero de nines venudes: \"\u001b[0m\u001b[0;34m)\u001b[0m\u001b[0;34m)\u001b[0m\u001b[0;34m\u001b[0m\u001b[0;34m\u001b[0m\u001b[0m\n\u001b[1;32m      8\u001b[0m \u001b[0;34m\u001b[0m\u001b[0m\n",
            "\u001b[0;32m/usr/local/lib/python3.10/dist-packages/ipykernel/kernelbase.py\u001b[0m in \u001b[0;36mraw_input\u001b[0;34m(self, prompt)\u001b[0m\n\u001b[1;32m    849\u001b[0m                 \u001b[0;34m\"raw_input was called, but this frontend does not support input requests.\"\u001b[0m\u001b[0;34m\u001b[0m\u001b[0;34m\u001b[0m\u001b[0m\n\u001b[1;32m    850\u001b[0m             )\n\u001b[0;32m--> 851\u001b[0;31m         return self._input_request(str(prompt),\n\u001b[0m\u001b[1;32m    852\u001b[0m             \u001b[0mself\u001b[0m\u001b[0;34m.\u001b[0m\u001b[0m_parent_ident\u001b[0m\u001b[0;34m,\u001b[0m\u001b[0;34m\u001b[0m\u001b[0;34m\u001b[0m\u001b[0m\n\u001b[1;32m    853\u001b[0m             \u001b[0mself\u001b[0m\u001b[0;34m.\u001b[0m\u001b[0m_parent_header\u001b[0m\u001b[0;34m,\u001b[0m\u001b[0;34m\u001b[0m\u001b[0;34m\u001b[0m\u001b[0m\n",
            "\u001b[0;32m/usr/local/lib/python3.10/dist-packages/ipykernel/kernelbase.py\u001b[0m in \u001b[0;36m_input_request\u001b[0;34m(self, prompt, ident, parent, password)\u001b[0m\n\u001b[1;32m    893\u001b[0m             \u001b[0;32mexcept\u001b[0m \u001b[0mKeyboardInterrupt\u001b[0m\u001b[0;34m:\u001b[0m\u001b[0;34m\u001b[0m\u001b[0;34m\u001b[0m\u001b[0m\n\u001b[1;32m    894\u001b[0m                 \u001b[0;31m# re-raise KeyboardInterrupt, to truncate traceback\u001b[0m\u001b[0;34m\u001b[0m\u001b[0;34m\u001b[0m\u001b[0m\n\u001b[0;32m--> 895\u001b[0;31m                 \u001b[0;32mraise\u001b[0m \u001b[0mKeyboardInterrupt\u001b[0m\u001b[0;34m(\u001b[0m\u001b[0;34m\"Interrupted by user\"\u001b[0m\u001b[0;34m)\u001b[0m \u001b[0;32mfrom\u001b[0m \u001b[0;32mNone\u001b[0m\u001b[0;34m\u001b[0m\u001b[0;34m\u001b[0m\u001b[0m\n\u001b[0m\u001b[1;32m    896\u001b[0m             \u001b[0;32mexcept\u001b[0m \u001b[0mException\u001b[0m \u001b[0;32mas\u001b[0m \u001b[0me\u001b[0m\u001b[0;34m:\u001b[0m\u001b[0;34m\u001b[0m\u001b[0;34m\u001b[0m\u001b[0m\n\u001b[1;32m    897\u001b[0m                 \u001b[0mself\u001b[0m\u001b[0;34m.\u001b[0m\u001b[0mlog\u001b[0m\u001b[0;34m.\u001b[0m\u001b[0mwarning\u001b[0m\u001b[0;34m(\u001b[0m\u001b[0;34m\"Invalid Message:\"\u001b[0m\u001b[0;34m,\u001b[0m \u001b[0mexc_info\u001b[0m\u001b[0;34m=\u001b[0m\u001b[0;32mTrue\u001b[0m\u001b[0;34m)\u001b[0m\u001b[0;34m\u001b[0m\u001b[0;34m\u001b[0m\u001b[0m\n",
            "\u001b[0;31mKeyboardInterrupt\u001b[0m: Interrupted by user"
          ]
        }
      ]
    },
    {
      "cell_type": "markdown",
      "source": [
        "Escriu un programa que pregunti el nom de l'usuari, es a dir un programa que et pregni com etius i despres cual elusiar introdueixi a resposta s'ens ha de imprimir una esposta amb el nom + un hola"
      ],
      "metadata": {
        "id": "AfE0XN_tQ89U"
      }
    },
    {
      "cell_type": "code",
      "source": [
        "\n",
        "nom = input(\"Com et dius? \")\n",
        "\n",
        "print (\"hola\",nom)\n"
      ],
      "metadata": {
        "id": "4NhK6zm1QmXR"
      },
      "execution_count": null,
      "outputs": []
    },
    {
      "cell_type": "markdown",
      "source": [
        "**Impressió + missatge**"
      ],
      "metadata": {
        "id": "oTHs-NJtRReT"
      }
    },
    {
      "cell_type": "code",
      "source": [
        "print (\"hola món\")"
      ],
      "metadata": {
        "id": "3gzgbpzzRT3B"
      },
      "execution_count": null,
      "outputs": []
    },
    {
      "cell_type": "markdown",
      "source": [
        "**Variable + impressió**"
      ],
      "metadata": {
        "id": "Nq0z_EE_RfOb"
      }
    },
    {
      "cell_type": "code",
      "source": [
        "x= \"hola món\"\n",
        "print (x)"
      ],
      "metadata": {
        "colab": {
          "base_uri": "https://localhost:8080/"
        },
        "id": "Jjfg-wzTRhHZ",
        "outputId": "09f6fbad-71ff-4875-d498-dea168f33308"
      },
      "execution_count": null,
      "outputs": [
        {
          "output_type": "stream",
          "name": "stdout",
          "text": [
            "hola món\n"
          ]
        }
      ]
    },
    {
      "cell_type": "markdown",
      "source": [
        "# **EXERCICIS 3.**"
      ],
      "metadata": {
        "id": "euWRmiUfqesX"
      }
    },
    {
      "cell_type": "code",
      "source": [
        "x=10\n",
        "print (type(x))"
      ],
      "metadata": {
        "colab": {
          "base_uri": "https://localhost:8080/"
        },
        "id": "QON9AZUYnu0_",
        "outputId": "abf90cce-055a-4789-add7-d220be4e335c"
      },
      "execution_count": null,
      "outputs": [
        {
          "output_type": "stream",
          "name": "stdout",
          "text": [
            "<class 'int'>\n"
          ]
        }
      ]
    },
    {
      "cell_type": "code",
      "source": [
        "x= 1,5\n",
        "print (type(x))"
      ],
      "metadata": {
        "colab": {
          "base_uri": "https://localhost:8080/"
        },
        "id": "ma8-LlGrn5Xt",
        "outputId": "03c08513-c3b0-4a92-f27b-2f71c37dbdc6"
      },
      "execution_count": null,
      "outputs": [
        {
          "output_type": "stream",
          "name": "stdout",
          "text": [
            "<class 'tuple'>\n"
          ]
        }
      ]
    },
    {
      "cell_type": "markdown",
      "source": [
        "Pregunta-li a la variable mitjançant el type, quin tipus de funció és.\n",
        "Un cop li hagis preguntat, si la resposta és un número sencer cal que sigui: \"Escriu el nombre amb un número no sencer o decimal\", sinó caldrà que imprimeixi el valor nines.\n"
      ],
      "metadata": {
        "id": "oolYYfMCrp_L"
      }
    },
    {
      "cell_type": "code",
      "source": [
        "def comanda():\n",
        "    pes_pallasso = 112\n",
        "    pes_nina = 75\n",
        "\n",
        "\n",
        "    numero_de_pallasos = int(input(\"Numero de pallasos venuts: \"))\n",
        "    numero_de_nines = int(input(\"Numero de nines venudes: \"))\n",
        "\n",
        "\n",
        "    pes_total_comanda = (pes_pallasso * numero_de_pallasos) + (pes_nina * numero_de_nines)\n",
        "\n",
        "\n",
        "    print(\"Pes total de la comanda:\", pes_total_comanda, \"g\")\n",
        "\n",
        "    x=(pes_total_comanda)\n",
        "    print(type(x))\n",
        "\n",
        "\n",
        "\n",
        "\n",
        "comanda()\n",
        "\n"
      ],
      "metadata": {
        "id": "rCtfXZd5tKBN",
        "colab": {
          "base_uri": "https://localhost:8080/"
        },
        "outputId": "8aac6850-3ade-41a7-8022-4631be7a35f9"
      },
      "execution_count": null,
      "outputs": [
        {
          "output_type": "stream",
          "name": "stdout",
          "text": [
            "Numero de pallasos venuts: 87\n",
            "Numero de nines venudes: 89\n",
            "Pes total de la comanda: 16419 g\n",
            "<class 'int'>\n"
          ]
        }
      ]
    },
    {
      "cell_type": "markdown",
      "source": [
        "**Fes un diagrama de flux per a parlar de la compra de llibres, punts de llibre i portallibres:**\n",
        "\n",
        "* LLIBRES -> 5 €\n",
        "* PUNT DE LLIBRES -> 1,5 €\n",
        "* PORTALLIBRES -> 10 €\n",
        "\n"
      ],
      "metadata": {
        "id": "eI4YK_LDmr_0"
      }
    },
    {
      "cell_type": "code",
      "source": [
        "llibres = float(input(\"Quants llibres compres?\"))\n",
        "punts_llibre = float(input(\"Quants punts de llibres compres?\"))\n",
        "portallibres = float(input(\"Quants portallibres llibres compres?\"))\n",
        "\n",
        "preu = ((llibres*5) + (punts_llibre*1.5) + (portallibres*10))\n",
        "if (preu%2==0):\n",
        "  print(\"Escriu el nombre amb un número no sencer o decimal\")\n",
        "  punts_llibre = float(input(\"Quants punts de llibres compres?\"))\n",
        "  portallibres = float(input(\"Quants portallibres llibres compres?\"))\n",
        "  preu = ((llibres*5) + (punts_llibre*1.5) + (portallibres*10))\n",
        "  if (preu%2==0):\n",
        "   print(\"Escriu el nombre amb un número no sencer o decimal\")\n",
        "   punts_llibre = float(input(\"Quants punts de llibres compres?\"))\n",
        "   portallibres = float(input(\"Quants portallibres llibres compres?\"))\n",
        "   preu = ((llibres*5) + (punts_llibre*1.5) + (portallibres*10))\n",
        "  else:\n",
        "   print(\"El preu final serà\", preu)\n",
        "\n",
        "\n",
        "else:\n",
        "  print(\"El preu final serà\", preu)\n",
        "\n",
        "\n",
        "\n"
      ],
      "metadata": {
        "colab": {
          "base_uri": "https://localhost:8080/"
        },
        "id": "TNWkQi2DnFiG",
        "outputId": "d41683af-058f-4b0b-b8b2-f876676ccb5a"
      },
      "execution_count": null,
      "outputs": [
        {
          "output_type": "stream",
          "name": "stdout",
          "text": [
            "Quants llibres compres?2\n",
            "Quants punts de llibres compres?2\n",
            "Quants portallibres llibres compres?2\n",
            "El preu final serà 33.0\n"
          ]
        }
      ]
    },
    {
      "cell_type": "markdown",
      "source": [
        "# **EXERCICIS 4.**"
      ],
      "metadata": {
        "id": "IDHZLARlqliF"
      }
    },
    {
      "cell_type": "markdown",
      "source": [
        "Calculeu la superficie (area) d'un cuadrat coneixent un dels seus costats"
      ],
      "metadata": {
        "id": "XVN8eAuSpe3s"
      }
    },
    {
      "cell_type": "code",
      "source": [
        "valor_costat= int(input(\"Quin és el valor del costat?\"))\n",
        "area = (valor_costat * valor_costat)\n",
        "print (\"L'area d'aquest quadrat és\" , area, )"
      ],
      "metadata": {
        "id": "N55sUJ56pt3H",
        "colab": {
          "base_uri": "https://localhost:8080/"
        },
        "outputId": "c1ec797c-1f55-4bfb-8d5c-dcd231be7678"
      },
      "execution_count": null,
      "outputs": [
        {
          "output_type": "stream",
          "name": "stdout",
          "text": [
            "Quin és el valor del costat?2\n",
            "L'area d'aquest quadrat és 4\n"
          ]
        }
      ]
    },
    {
      "cell_type": "markdown",
      "source": [
        "Hem de realizar el perimetre d'un quadrat amb print i unitats"
      ],
      "metadata": {
        "id": "6ScS6OK6ptDQ"
      }
    },
    {
      "cell_type": "code",
      "source": [],
      "metadata": {
        "id": "VxGKEhs8p3yc"
      },
      "execution_count": null,
      "outputs": []
    },
    {
      "cell_type": "markdown",
      "source": [
        "Hem de inventar 4 variables,la suma de las cuattre variables\n",
        "les dues segones variables les suma les dues segones per altra, i despres ho multiplicas"
      ],
      "metadata": {
        "id": "nCALhjLVp4LN"
      }
    },
    {
      "cell_type": "markdown",
      "source": [
        "Un programa que fasi la mitjana"
      ],
      "metadata": {
        "id": "4nebg3uKPkaN"
      }
    },
    {
      "cell_type": "code",
      "source": [],
      "metadata": {
        "id": "GiOOTVbMToFl"
      },
      "execution_count": null,
      "outputs": []
    },
    {
      "cell_type": "markdown",
      "source": [
        "fes una variable que pregunti el sou d'una persona y si el seu sou es superior a 2.000€ cal que es mostri un misatge que digui que ha de pagar un 15% de IRPF"
      ],
      "metadata": {
        "id": "UHq7eq0bToif"
      }
    },
    {
      "cell_type": "code",
      "source": [
        "sou = float(input(\"Introdueix el teu sou: \"))\n",
        "if sou >= 2000:\n",
        "    print(\"Has de pagar un 15% de IRPF.\")\n",
        "else:\n",
        "    print(\"El teu sou no està subjecte al 15% d'IRPF.\")"
      ],
      "metadata": {
        "colab": {
          "base_uri": "https://localhost:8080/"
        },
        "id": "DulcDsXWW6fH",
        "outputId": "14dfd165-897f-47dd-d35f-88cd75c23364"
      },
      "execution_count": null,
      "outputs": [
        {
          "output_type": "stream",
          "name": "stdout",
          "text": [
            "Introdueix el teu sou: 1200\n",
            "El teu sou no està subjecte al 15% d'IRPF.\n"
          ]
        }
      ]
    },
    {
      "cell_type": "markdown",
      "source": [
        "Hem de posar 2 variables amb numeros diferents i cal que surti a la pantalla el\n",
        "que es superior"
      ],
      "metadata": {
        "id": "BC58B2bZTqbh"
      }
    },
    {
      "cell_type": "code",
      "source": [
        "num1 = int(input(\"Introdueix el primer nombre: \"))\n",
        "num2 = int(input(\"Introdueix el segon nombre: \"))\n",
        "if num1 > num2:\n",
        "    print(f\"El número superior és {num1}.\")\n",
        "else:\n",
        "    print(f\"El número superior és {num2}.\")\n"
      ],
      "metadata": {
        "id": "uLIEY5yeXagO",
        "colab": {
          "base_uri": "https://localhost:8080/"
        },
        "outputId": "bafb8810-7ff9-470f-f22f-e330a2f01213"
      },
      "execution_count": null,
      "outputs": [
        {
          "output_type": "stream",
          "name": "stdout",
          "text": [
            "Introdueix el primer nombre: 12\n",
            "Introdueix el segon nombre: 114\n",
            "El número superior és 114.\n"
          ]
        }
      ]
    },
    {
      "cell_type": "markdown",
      "source": [
        "imagina que tens una nomina de 1950€ hem de fer que pagui l'estat un 20% d'impostos un cop hem fet aixo hem de pagar les factures del gas (70€) i de l'aigua (55€) a vanda hi ha que pagar el pis (1000€) cuants diner li quedaran a aquesta persona per sobreviure\n",
        "\n",
        "Si el resultat de l'import es infeior a 1000€ cal que printeu compte.\n",
        "si es superior a 1000 (tens sort)"
      ],
      "metadata": {
        "id": "JonrqMF8U6Dq"
      }
    },
    {
      "cell_type": "code",
      "source": [
        "nomina = 1950\n",
        "\n",
        "impostos = nomina * 0.20\n",
        "sou_net = nomina - impostos\n",
        "print(f\"Després de pagar impostos: {sou_net}€\")\n",
        "\n",
        "factura_gas = 70\n",
        "factura_aigua = 55\n",
        "lloguer_pis = 1000\n",
        "\n",
        "despres_gas = sou_net - factura_gas\n",
        "print(f\"Després de pagar el gas: {despres_gas}€\")\n",
        "\n",
        "despres_aigua = despres_gas - factura_aigua\n",
        "print(f\"Després de pagar l'aigua: {despres_aigua}€\")\n",
        "\n",
        "despres_lloguer = despres_aigua - lloguer_pis\n",
        "print(f\"Després de pagar el lloguer: {despres_lloguer}€\")\n",
        "\n",
        "\n",
        "if despres_lloguer < 1000:\n",
        "    print(\"Compte\")\n",
        "else:\n",
        "    print(\"Tens sort\")\n",
        "\n",
        "print(f\"Diners restants: {despres_lloguer}€\")\n"
      ],
      "metadata": {
        "id": "Y39zRGtTX07D"
      },
      "execution_count": null,
      "outputs": []
    },
    {
      "cell_type": "markdown",
      "source": [
        "* Hem de demanar a un alumne que os doni 3 notes sobre 10, que calculi el promig de les tres examnes y que ens digui si el promig es mes del 7 supera elc cus, si la nota es 4-7 ets un alumne normal, si esta per sota del 4 esta suspes y ha d'anar a extraodinaria"
      ],
      "metadata": {
        "id": "aqrGLaCvurQB"
      }
    },
    {
      "cell_type": "code",
      "source": [
        "nota_1= float(input(\"Introdueix nota del primer examen del 0-10\"))\n",
        "nota_2= float(input(\"Introdueix nota del segon examen del 0-10\"))\n",
        "nota_3= float(input(\"Introdueix nota del tercer examen 0-10\"))\n",
        "\n",
        "promig = (nota_1 + nota_2 + nota_3) / 3\n",
        "\n",
        "print(f\"El promig de les tres notes és:\", promig)\n",
        "\n",
        "if promig > 7:\n",
        "    print(\"Has superat el curs!\")\n",
        "elif 4 <= promig <= 7:\n",
        "    print(\"Ets un alumne normal.\")\n",
        "else:\n",
        "    print(\"Has suspès i has d'anar a extraordinària.\")\n"
      ],
      "metadata": {
        "id": "RWKEv9zWvKjY"
      },
      "execution_count": null,
      "outputs": []
    },
    {
      "cell_type": "markdown",
      "source": [
        "* Que hi hagi tres numeros y que mostri el gran i que fasi una cadena y que els ordeni\n",
        "\n",
        "\n",
        "\n"
      ],
      "metadata": {
        "id": "6xyVvYOfvK7u"
      }
    },
    {
      "cell_type": "code",
      "source": [
        "num1= int(input(\"Introdueix un numero: \"))\n",
        "num2= int(input(\"Introdueix un numero: \"))\n",
        "num3= int(input(\"Introdueix un numero: \"))\n",
        "\n",
        "num_gran = max(num1, num2, num3)\n",
        "print(f\"El numero més gran és:\", num_gran)\n",
        "num_petit = min(num1, num2, num3)\n",
        "ordre = sorted([num1, num2, num3])\n",
        "print(f\"Els números ordenats de mes petit a mes gran són:\",ordre)\n",
        "\n",
        "\n",
        "\n",
        "\n"
      ],
      "metadata": {
        "id": "Lo2vqiz5vZFc",
        "colab": {
          "base_uri": "https://localhost:8080/"
        },
        "outputId": "5864cb3e-1dbe-4e42-ed05-5bccfc1c4c98"
      },
      "execution_count": null,
      "outputs": [
        {
          "output_type": "stream",
          "name": "stdout",
          "text": [
            "Introdueix un numero: 12\n",
            "Introdueix un numero: 12345\n",
            "Introdueix un numero: 736872874\n",
            "El numero més gran és: 736872874\n",
            "Els números ordenats de mes petit a mes gran són: [12, 12345, 736872874]\n"
          ]
        }
      ]
    },
    {
      "cell_type": "markdown",
      "source": [
        "* Demana valor i que ens digui si son  positius negatius o 0"
      ],
      "metadata": {
        "id": "0LK0PKwSvgMk"
      }
    },
    {
      "cell_type": "code",
      "source": [
        "num= float(input(\"Introdueix un valor: \"))\n",
        "if num > 0:\n",
        "    print(\"El valor és positiu.\")\n",
        "elif num < 0:\n",
        "    print(\"El valor és negatiu.\")\n",
        "else:\n",
        "    print(\"El valor és zero.\")\n"
      ],
      "metadata": {
        "id": "PtFLaoOdxzMr",
        "colab": {
          "base_uri": "https://localhost:8080/"
        },
        "outputId": "5f5816a8-27c2-445c-8b01-41519c547660"
      },
      "execution_count": null,
      "outputs": [
        {
          "output_type": "stream",
          "name": "stdout",
          "text": [
            "Introdueix un valor: -23\n",
            "El valor és negatiu.\n"
          ]
        }
      ]
    },
    {
      "cell_type": "markdown",
      "source": [
        "#**GENERADOR CONTRASENYA**\n",
        "\n",
        "* Generador de contrasenyes amb 7 condicionants"
      ],
      "metadata": {
        "id": "VhIBrNQNvNMb"
      }
    },
    {
      "cell_type": "code",
      "source": [
        "import random\n",
        "\n",
        "print(\"La contrsenya ha de complir aquestes 7 condicions:\")\n",
        "print()\n",
        "print(\"Ha de tenir com a mínim 8 caràcters.\")\n",
        "print(\"Ha de tenir una majúscula.\")\n",
        "print(\"Ha de tenir una minúscula.\")\n",
        "print(\"Ha de tenir un número.\")\n",
        "print(\"Utilitzar un símbol especial.\")\n",
        "print(\"No utilitzar espais\")\n",
        "print(\"No utilitzar punts\")\n",
        "print(\"La meva contrasenya sera: Xc35@i7A\")\n",
        "\n",
        "# crear llista\n",
        "lista1 = [\"A\", \"B\", \"C\", \"D\", \"E\", \"F\", \"G\", \"H\", \"I\", \"J\", \"K\", \"L\", \"M\", \"N\", \"O\", \"P\", \"Q\", \"R\", \"S\", \"T\", \"U\", \"V\", \"W\", \"X\", \"Y\", \"Z\"]\n",
        "lista2 = [\"0\", \"1\", \"2\", \"3\", \"4\", \"5\", \"6\", \"7\", \"8\", \"9\"]\n",
        "lista3= [\"a\", \"b\", \"c\", \"d\", \"e\", \"f\", \"g\", \"h\", \"i\", \"j\", \"k\", \"l\", \"m\", \"n\", \"o\", \"p\", \"q\", \"r\", \"s\", \"t\", \"u\", \"v\", \"w\", \"x\", \"y\", \"z\"]\n",
        "lista4= [\"!\", \"@\", \"#\", \"$\", \"%\", \"^\", \"&\", \"*\", \"(\", \")\", \"_\", \"+\", \"-\", \"=\", \"{\", \"}\", \"[\", \"]\", \":\", \";\", \"'\", \"<\", \">\", \"?\", \"/\", \"\\\\\", \"|\", \"~\", \"`\"]\n",
        "\n",
        "contraseña = [random.choice(lista1),  random.choice(lista2),  random.choice(lista3),  random.choice(lista4)]\n",
        "\n",
        "while len(contraseña) < 8:\n",
        "    contraseña.append(random.choice(lista1 + lista2 + lista3 + lista4))\n",
        "print()\n",
        "print(\"La contrasenya segura generada és:\", ''.join(contraseña))\n"
      ],
      "metadata": {
        "colab": {
          "base_uri": "https://localhost:8080/"
        },
        "id": "jJxRPrm0quAc",
        "outputId": "fb29a303-29e8-4fc0-8cf2-e392462f0d16"
      },
      "execution_count": null,
      "outputs": [
        {
          "output_type": "stream",
          "name": "stdout",
          "text": [
            "La contrsenya ha de complir aquestes 7 condicions:\n",
            "\n",
            "Ha de tenir com a mínim 8 caràcters.\n",
            "Ha de tenir una majúscula.\n",
            "Ha de tenir una minúscula.\n",
            "Ha de tenir un número.\n",
            "Utilitzar un símbol especial.\n",
            "No utilitzar espais\n",
            "No utilitzar punts\n",
            "La meva contrasenya sera: Xc35@i7A\n",
            "\n",
            "La contrasenya segura generada és: P3c|u!Mi\n"
          ]
        }
      ]
    },
    {
      "cell_type": "markdown",
      "source": [
        "* Fer llistes ingredientes (pa, llet, peix, nutella, 4, 15, cerveza)"
      ],
      "metadata": {
        "id": "lA-Ivr-FEkIm"
      }
    },
    {
      "cell_type": "code",
      "source": [
        "from pickle import APPEND\n",
        "llista=[\"Pa\", \"Llet\", \"Peix\", \"Nutella\", 4, 15, \"Cerveza\"]     #LLISTA FETA\n",
        "print(llista[2])\n",
        "llista.pop(3)             #PER FER DESAPAREIXER\n",
        "print(llista[5])\n",
        "print(llista)\n",
        "\n",
        "llista.append(\"Coca-Cola\")   #PER AFEGIR UN CARACTER\n",
        "print(llista)\n",
        "llista.insert(4,\"73\")        #PER INSERI EN ALGUN LLOC CONCRET\n",
        "print(llista)\n"
      ],
      "metadata": {
        "colab": {
          "base_uri": "https://localhost:8080/"
        },
        "id": "9MtD3AdQFM_A",
        "outputId": "32746f27-3e9b-418b-9c83-7798b1facba1"
      },
      "execution_count": null,
      "outputs": [
        {
          "output_type": "stream",
          "name": "stdout",
          "text": [
            "Peix\n",
            "Cerveza\n",
            "['Pa', 'Llet', 'Peix', 4, 15, 'Cerveza']\n",
            "['Pa', 'Llet', 'Peix', 4, 15, 'Cerveza', 'Coca-Cola']\n",
            "['Pa', 'Llet', 'Peix', 4, '73', 15, 'Cerveza', 'Coca-Cola']\n"
          ]
        }
      ]
    },
    {
      "cell_type": "markdown",
      "source": [
        "* CREAREM UNA LLISTA QUE ES DIGUI SETMANA, QUE TINGUI: ELS DIES, DE DILLUNS A   \n",
        "  DIVENDRES, MENYS DIJOUS, DESPRÉS, AFEGIREM EL DISSAPTE I DIUMENTGE, DESPRES POSAREM EL DIJOUS EN EL SEU LLOC.\n",
        "  UN COP TINGUEU LA SETAMANA COMPLETA AFEGIREM EL 2 DIVENDRES\n",
        "\n",
        "\n",
        "\n",
        "* EN UNA VARIABLE EMMAGATZAREM, LI DEMANAREM QUANTS DIVENDRES HI HAN A LA LLISTA. DESPRÉS, ELIMINAREM ELS DIVENDRES QUE ENS SOBRIN I DESPRÉS FAREM UN TEXT QUE ES VEJI EL NOMBRE DE DIVENDRES QUE HI HABIA EN LA LLISTA (\"EL NOMBRE  DE DIVENDRES QUE HI HABIA ABANS DE ELIMINARLOS ERA...)\n"
      ],
      "metadata": {
        "id": "BdGaEEOuMCq9"
      }
    },
    {
      "cell_type": "code",
      "source": [
        "setmana=[\"DILLUNS\", \"DIMARS\", \"DIMECRES\", \"DIVENDRES\"]\n",
        "print(setmana)\n",
        "setmana.insert(5,\"DISSAPTE\")\n",
        "setmana.insert(6,\"DIUMENGE\")\n",
        "print(setmana)\n",
        "setmana.insert(3,\"DIJOUS\")\n",
        "print(setmana)\n",
        "setmana.append(\"DIVENDRES\")\n",
        "print(setmana)\n",
        "setmana.insert(2,\"DIVENDRES\")\n",
        "print(setmana)"
      ],
      "metadata": {
        "colab": {
          "base_uri": "https://localhost:8080/"
        },
        "id": "KFTfG_eINhG0",
        "outputId": "ac827bc3-c26e-431d-fbba-656982ee8c4e"
      },
      "execution_count": null,
      "outputs": [
        {
          "output_type": "stream",
          "name": "stdout",
          "text": [
            "['DILLUNS', 'DIMARS', 'DIMECRES', 'DIVENDRES']\n",
            "['DILLUNS', 'DIMARS', 'DIMECRES', 'DIVENDRES', 'DISSAPTE', 'DIUMENGE']\n",
            "['DILLUNS', 'DIMARS', 'DIMECRES', 'DIJOUS', 'DIVENDRES', 'DISSAPTE', 'DIUMENGE']\n",
            "['DILLUNS', 'DIMARS', 'DIMECRES', 'DIJOUS', 'DIVENDRES', 'DISSAPTE', 'DIUMENGE', 'DIVENDRES']\n",
            "['DILLUNS', 'DIMARS', 'DIVENDRES', 'DIMECRES', 'DIJOUS', 'DIVENDRES', 'DISSAPTE', 'DIUMENGE', 'DIVENDRES']\n"
          ]
        }
      ]
    },
    {
      "cell_type": "markdown",
      "source": [
        "Rango de 5 valores (range)"
      ],
      "metadata": {
        "id": "anQ_C-apo0ic"
      }
    },
    {
      "cell_type": "code",
      "source": [
        "for num in range(16, 32, 2):\n",
        "    print(num)"
      ],
      "metadata": {
        "colab": {
          "base_uri": "https://localhost:8080/"
        },
        "id": "Han71DzBpd70",
        "outputId": "7278b458-8e49-4229-9371-dac26f4c214c"
      },
      "execution_count": 27,
      "outputs": [
        {
          "output_type": "stream",
          "name": "stdout",
          "text": [
            "16\n",
            "18\n",
            "20\n",
            "22\n",
            "24\n",
            "26\n",
            "28\n",
            "30\n"
          ]
        }
      ]
    },
    {
      "cell_type": "markdown",
      "source": [
        "Fer una llista 7, 5, 28, 12, 11, 0, 4= llista1"
      ],
      "metadata": {
        "id": "6a4rXP27riD_"
      }
    },
    {
      "cell_type": "code",
      "source": [
        "llista1= [7,5,28,12,11,0,4]\n",
        "print(\"El Màxim és\",max(llista1))\n",
        "print(\"_______________\")\n",
        "print()\n",
        "print(\"El Mínim és\",min(llista1))\n",
        "print(\"_______________\")\n",
        "print()\n",
        "print(\"La suma és\",sum(llista1))\n",
        "print(\"_______________\")\n",
        "\n"
      ],
      "metadata": {
        "colab": {
          "base_uri": "https://localhost:8080/"
        },
        "id": "_4FoyI5ZruO3",
        "outputId": "454566a8-6751-4426-cab5-8912d52d33e2"
      },
      "execution_count": 50,
      "outputs": [
        {
          "output_type": "stream",
          "name": "stdout",
          "text": [
            "El Màxim és 28\n",
            "_______________\n",
            "\n",
            "El Mínim és 0\n",
            "_______________\n",
            "\n",
            "La suma és 67\n",
            "_______________\n"
          ]
        }
      ]
    },
    {
      "cell_type": "markdown",
      "source": [
        "Una llista que es digui setmana, que vagi de dilluns a dimecres\n"
      ],
      "metadata": {
        "id": "f-LH_F97vSiF"
      }
    },
    {
      "cell_type": "code",
      "source": [
        "setmana=[\"Dilluns\", \"Dimarts\", \"Dimecres\", \"Dijous\", \"Divendres\"]\n",
        "dia=[\"Dilluns\", \"Dimarts\", \"Dimecres\", \"Dijous\", \"Divendres\"]\n",
        "for dia in setmana:\n",
        "print(dia)\n",
        "print(\"s'ha acabat\")\n"
      ],
      "metadata": {
        "colab": {
          "base_uri": "https://localhost:8080/",
          "height": 110
        },
        "id": "RQ8RGZF6vQxN",
        "outputId": "7ed02459-1518-4c8a-8c31-2c0cb20550d9"
      },
      "execution_count": 67,
      "outputs": [
        {
          "output_type": "error",
          "ename": "IndentationError",
          "evalue": "expected an indented block after 'for' statement on line 3 (<ipython-input-67-b17d337a3fd4>, line 4)",
          "traceback": [
            "\u001b[0;36m  File \u001b[0;32m\"<ipython-input-67-b17d337a3fd4>\"\u001b[0;36m, line \u001b[0;32m4\u001b[0m\n\u001b[0;31m    print(dia)\u001b[0m\n\u001b[0m    ^\u001b[0m\n\u001b[0;31mIndentationError\u001b[0m\u001b[0;31m:\u001b[0m expected an indented block after 'for' statement on line 3\n"
          ]
        }
      ]
    },
    {
      "cell_type": "code",
      "source": [
        "\n",
        "abecedari=[\"a\", \"b\", \"c\", \"d\", \"e\", \"f\", \"g\", \"h\", \"i\", \"j\", \"k\", \"l\", \"m\", \"n\", \"o\", \"p\", \"q\", \"r\", \"s\", \"t\", \"u\", \"v\", \"w\", \"x\", \"y\", \"z\"]\n",
        "for lletras in abecedari:\n",
        "  print(lletras)\n",
        "  print()\n",
        "  print(upper(abecedari))"
      ],
      "metadata": {
        "colab": {
          "base_uri": "https://localhost:8080/",
          "height": 220
        },
        "id": "NY0hvR3HyE7F",
        "outputId": "fbd173c9-6efa-4bd1-c22f-229cf4346dc9"
      },
      "execution_count": 75,
      "outputs": [
        {
          "output_type": "stream",
          "name": "stdout",
          "text": [
            "a\n",
            "\n"
          ]
        },
        {
          "output_type": "error",
          "ename": "NameError",
          "evalue": "name 'upper' is not defined",
          "traceback": [
            "\u001b[0;31m---------------------------------------------------------------------------\u001b[0m",
            "\u001b[0;31mNameError\u001b[0m                                 Traceback (most recent call last)",
            "\u001b[0;32m<ipython-input-75-5bd4753bd9bb>\u001b[0m in \u001b[0;36m<cell line: 2>\u001b[0;34m()\u001b[0m\n\u001b[1;32m      3\u001b[0m   \u001b[0mprint\u001b[0m\u001b[0;34m(\u001b[0m\u001b[0mlletras\u001b[0m\u001b[0;34m)\u001b[0m\u001b[0;34m\u001b[0m\u001b[0;34m\u001b[0m\u001b[0m\n\u001b[1;32m      4\u001b[0m   \u001b[0mprint\u001b[0m\u001b[0;34m(\u001b[0m\u001b[0;34m)\u001b[0m\u001b[0;34m\u001b[0m\u001b[0;34m\u001b[0m\u001b[0m\n\u001b[0;32m----> 5\u001b[0;31m   \u001b[0mprint\u001b[0m\u001b[0;34m(\u001b[0m\u001b[0mupper\u001b[0m\u001b[0;34m(\u001b[0m\u001b[0mabecedari\u001b[0m\u001b[0;34m)\u001b[0m\u001b[0;34m)\u001b[0m\u001b[0;34m\u001b[0m\u001b[0;34m\u001b[0m\u001b[0m\n\u001b[0m",
            "\u001b[0;31mNameError\u001b[0m: name 'upper' is not defined"
          ]
        }
      ]
    }
  ]
}